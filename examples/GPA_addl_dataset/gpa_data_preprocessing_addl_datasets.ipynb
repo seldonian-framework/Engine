{
 "cells": [
  {
   "cell_type": "code",
   "execution_count": 1,
   "id": "a21c86b2",
   "metadata": {},
   "outputs": [],
   "source": [
    "import json\n",
    "import numpy as np\n",
    "import pandas as pd\n",
    "from sklearn.preprocessing import StandardScaler\n",
    "import matplotlib.pyplot as plt"
   ]
  },
  {
   "cell_type": "code",
   "execution_count": 12,
   "id": "3bf6d5cf",
   "metadata": {},
   "outputs": [],
   "source": [
    "def make_primary_and_addl_dataset(\n",
    "    input_path,\n",
    "    output_path_primary_data,\n",
    "    output_path_addl_data,\n",
    "    output_path_primary_metadata,\n",
    "    output_path_addl_metadata,\n",
    "    columns_raw):\n",
    "    \n",
    "    df = pd.read_csv(input_path,header=None,names=columns_raw)\n",
    "    \n",
    "    # extract features\n",
    "    features = df.iloc[:,1:-1]\n",
    "\n",
    "    # scale features using standard scaler\n",
    "    scaler = StandardScaler()\n",
    "    scaler.fit(features)\n",
    "    transformed_features = scaler.transform(features)\n",
    "\n",
    "    # replace features in original dataframe with transformed features\n",
    "    df.iloc[:,1:-1] = transformed_features\n",
    "\n",
    "    # convert continuous GPA labels to binary: 0 if GPA < 3, 1 if GPA >= 3\n",
    "    # Make a new column called GPA_class\n",
    "    df.loc[:,'GPA_class'] = df['GPA'].apply(lambda x: float(int(x>=3.0)))\n",
    "\n",
    "    # Drop original GPA column\n",
    "    df = df.drop(columns=['GPA'])\n",
    "\n",
    "    # Primary dataset has no gender label\n",
    "    df_primary = df.iloc[:,1:]\n",
    "\n",
    "    # Sample 80% of df for addl dataset (still has gender label)\n",
    "    df_addl = df.sample(frac=0.8,replace=False,random_state=42)\n",
    "\n",
    "     # Make gender column two columns: \"M\" and \"F\" for men and women, both binary valued\n",
    "    df_addl['M'] = df_addl.loc[:,'Gender']\n",
    "    df_addl['F'] = df_addl.loc[:,'Gender'].apply(lambda x: 0 if x==1 else 1)\n",
    "\n",
    "    # reorder columns so that sensitive attributes M and F are first\n",
    "    cols = df_addl.columns.tolist()\n",
    "    cols_reorder = cols[-2:] + cols[0:-2]\n",
    "    df_addl = df_addl[cols_reorder]\n",
    "\n",
    "    \n",
    "    # Save final dataframes\n",
    "    df_primary.to_csv(output_path_primary_data,index=False,header=False)\n",
    "    print(f\"Saved primary data file to: {output_path_primary_data}\\n\")\n",
    "    \n",
    "    df_addl.to_csv(output_path_addl_data,index=False,header=False)\n",
    "    print(f\"Saved addl data file to: {output_path_addl_data}\\n\")\n",
    "\n",
    "    \n",
    "    # Save metadata json files\n",
    "    \n",
    "    primary_metadata_dict = {\n",
    "        \"regime\":\"supervised\",\n",
    "        \"sub_regime\":\"classification\",\n",
    "        \"all_col_names\":list(df_primary.columns),\n",
    "        \"label_col_names\":[\"GPA_class\"],\n",
    "        \"sensitive_col_names\":[]\n",
    "    }\n",
    "    \n",
    "    addl_metadata_dict = {\n",
    "        \"regime\":\"supervised\",\n",
    "        \"sub_regime\":\"classification\",\n",
    "        \"all_col_names\":list(df_addl.columns),\n",
    "        \"label_col_names\":[\"GPA_class\"],\n",
    "        \"sensitive_col_names\":[\"M\",\"F\"]\n",
    "    }\n",
    "    \n",
    "    with open(output_path_primary_metadata,'w') as outfile:\n",
    "        json.dump(primary_metadata_dict,outfile,indent=2)\n",
    "    print(f\"Saved primary metadata file to: {output_path_primary_metadata}\\n\")\n",
    "    \n",
    "    with open(output_path_addl_metadata,'w') as outfile:\n",
    "        json.dump(addl_metadata_dict,outfile,indent=2)\n",
    "    print(f\"Saved addl metadata file to: {output_path_addl_metadata}\\n\")\n",
    "\n",
    "    return "
   ]
  },
  {
   "cell_type": "code",
   "execution_count": 13,
   "id": "99171194",
   "metadata": {},
   "outputs": [
    {
     "name": "stdout",
     "output_type": "stream",
     "text": [
      "Saved primary data file to: gpa_classification_primary_dataset.csv\n",
      "\n",
      "Saved addl data file to: gpa_classification_addl_dataset.csv\n",
      "\n",
      "Saved primary metadata file to: primary_metadata_classification.json\n",
      "\n",
      "Saved addl metadata file to: addl_metadata_classification.json\n",
      "\n"
     ]
    }
   ],
   "source": [
    "f = \"./gpa_data_download/data.csv\"\n",
    "columns_raw = [\"Gender\", \"Physics\", \"Biology\", \n",
    "    \"History\", \"Second_Language\", \"Geography\", \n",
    "    \"Literature\", \"Portuguese_and_Essay\", \n",
    "    \"Math\", \"Chemistry\", \"GPA\"]\n",
    "\n",
    "make_primary_and_addl_dataset(\n",
    "    input_path=f,\n",
    "    output_path_primary_data=\"gpa_classification_primary_dataset.csv\",\n",
    "    output_path_addl_data=\"gpa_classification_addl_dataset.csv\",\n",
    "    output_path_primary_metadata=\"primary_metadata_classification.json\",\n",
    "    output_path_addl_metadata=\"addl_metadata_classification.json\",\n",
    "    columns_raw=columns_raw\n",
    ")"
   ]
  },
  {
   "cell_type": "code",
   "execution_count": 15,
   "id": "6b2d16fe",
   "metadata": {},
   "outputs": [
    {
     "name": "stdout",
     "output_type": "stream",
     "text": [
      "{\r\n",
      "  \"regime\": \"supervised\",\r\n",
      "  \"sub_regime\": \"classification\",\r\n",
      "  \"all_col_names\": [\r\n",
      "    \"Physics\",\r\n",
      "    \"Biology\",\r\n",
      "    \"History\",\r\n",
      "    \"Second_Language\",\r\n",
      "    \"Geography\",\r\n",
      "    \"Literature\",\r\n",
      "    \"Portuguese_and_Essay\",\r\n",
      "    \"Math\",\r\n",
      "    \"Chemistry\",\r\n",
      "    \"GPA_class\"\r\n",
      "  ],\r\n",
      "  \"label_col_names\": [\r\n",
      "    \"GPA_class\"\r\n",
      "  ],\r\n",
      "  \"sensitive_col_names\": []\r\n",
      "}"
     ]
    }
   ],
   "source": [
    "!cat primary_metadata_classification.json"
   ]
  },
  {
   "cell_type": "code",
   "execution_count": 16,
   "id": "0bca5558",
   "metadata": {},
   "outputs": [
    {
     "name": "stdout",
     "output_type": "stream",
     "text": [
      "{\r\n",
      "  \"regime\": \"supervised\",\r\n",
      "  \"sub_regime\": \"classification\",\r\n",
      "  \"all_col_names\": [\r\n",
      "    \"M\",\r\n",
      "    \"F\",\r\n",
      "    \"Gender\",\r\n",
      "    \"Physics\",\r\n",
      "    \"Biology\",\r\n",
      "    \"History\",\r\n",
      "    \"Second_Language\",\r\n",
      "    \"Geography\",\r\n",
      "    \"Literature\",\r\n",
      "    \"Portuguese_and_Essay\",\r\n",
      "    \"Math\",\r\n",
      "    \"Chemistry\",\r\n",
      "    \"GPA_class\"\r\n",
      "  ],\r\n",
      "  \"label_col_names\": [\r\n",
      "    \"GPA_class\"\r\n",
      "  ],\r\n",
      "  \"sensitive_col_names\": [\r\n",
      "    \"M\",\r\n",
      "    \"F\"\r\n",
      "  ]\r\n",
      "}"
     ]
    }
   ],
   "source": [
    "!cat addl_metadata_classification.json"
   ]
  },
  {
   "cell_type": "code",
   "execution_count": null,
   "id": "abe0c32e",
   "metadata": {},
   "outputs": [],
   "source": []
  }
 ],
 "metadata": {
  "kernelspec": {
   "display_name": "seldo",
   "language": "python",
   "name": "seldo"
  },
  "language_info": {
   "codemirror_mode": {
    "name": "ipython",
    "version": 3
   },
   "file_extension": ".py",
   "mimetype": "text/x-python",
   "name": "python",
   "nbconvert_exporter": "python",
   "pygments_lexer": "ipython3",
   "version": "3.8.12"
  }
 },
 "nbformat": 4,
 "nbformat_minor": 5
}
