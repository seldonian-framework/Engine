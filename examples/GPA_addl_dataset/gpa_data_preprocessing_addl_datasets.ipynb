{
 "cells": [
  {
   "cell_type": "code",
   "execution_count": 1,
   "id": "a21c86b2",
   "metadata": {},
   "outputs": [],
   "source": [
    "import json\n",
    "import numpy as np\n",
    "import pandas as pd\n",
    "from sklearn.preprocessing import StandardScaler\n",
    "import matplotlib.pyplot as plt"
   ]
  },
  {
   "cell_type": "code",
   "execution_count": 13,
   "id": "3bf6d5cf",
   "metadata": {},
   "outputs": [],
   "source": [
    "def make_primary_and_addl_dataset(\n",
    "    input_path,\n",
    "    output_path_primary_data,\n",
    "    output_path_addl_data,\n",
    "    output_path_primary_metadata,\n",
    "    output_path_addl_metadata,\n",
    "    columns_raw):\n",
    "    \n",
    "    df = pd.read_csv(input_path,header=None,names=columns_raw)\n",
    "    \n",
    "    # extract features\n",
    "    features = df.iloc[:,1:-1]\n",
    "\n",
    "    # scale features using standard scaler\n",
    "    scaler = StandardScaler()\n",
    "    scaler.fit(features)\n",
    "    transformed_features = scaler.transform(features)\n",
    "\n",
    "    # replace features in original dataframe with transformed features\n",
    "    df.iloc[:,1:-1] = transformed_features\n",
    "\n",
    "    # convert continuous GPA labels to binary: 0 if GPA < 3, 1 if GPA >= 3\n",
    "    # Make a new column called GPA_class\n",
    "    df.loc[:,'GPA_class'] = df['GPA'].apply(lambda x: float(int(x>=3.0)))\n",
    "\n",
    "    # Drop original GPA column\n",
    "    df = df.drop(columns=['GPA'])\n",
    "\n",
    "    # Primary dataset has no gender label\n",
    "    df_primary = df.iloc[:,1:]\n",
    "\n",
    "    # Sample 30% of df for addl dataset (still has gender label)\n",
    "    df_addl = df.sample(frac=0.3,replace=False,random_state=42)\n",
    "\n",
    "     # Make gender column two columns: \"M\" and \"F\" for men and women, both binary valued\n",
    "    df_addl['M'] = df_addl.loc[:,'Gender']\n",
    "    df_addl['F'] = df_addl.loc[:,'Gender'].apply(lambda x: 0 if x==1 else 1)\n",
    "\n",
    "    # Drop gender column from df_addl\n",
    "    df_addl = df_addl.drop(columns=[\"Gender\"])\n",
    "    # reorder columns so that sensitive attributes M and F are first\n",
    "    cols = df_addl.columns.tolist()\n",
    "    cols_reorder = cols[-2:] + cols[0:-2]\n",
    "    df_addl = df_addl[cols_reorder]\n",
    "        \n",
    "    \n",
    "    # Save final dataframes\n",
    "    df_primary.to_csv(output_path_primary_data,index=False,header=False)\n",
    "    print(f\"Saved primary data file to: {output_path_primary_data}\\n\")\n",
    "    \n",
    "    df_addl.to_csv(output_path_addl_data,index=False,header=False)\n",
    "    print(f\"Saved addl data file to: {output_path_addl_data}\\n\")\n",
    "\n",
    "    # Save metadata json files\n",
    "    \n",
    "    primary_metadata_dict = {\n",
    "        \"regime\":\"supervised_learning\",\n",
    "        \"sub_regime\":\"classification\",\n",
    "        \"all_col_names\":list(df_primary.columns),\n",
    "        \"label_col_names\":[\"GPA_class\"],\n",
    "        \"sensitive_col_names\":[]\n",
    "    }\n",
    "    \n",
    "    addl_metadata_dict = {\n",
    "        \"regime\":\"supervised_learning\",\n",
    "        \"sub_regime\":\"classification\",\n",
    "        \"all_col_names\":list(df_addl.columns),\n",
    "        \"label_col_names\":[\"GPA_class\"],\n",
    "        \"sensitive_col_names\":[\"M\",\"F\"]\n",
    "    }\n",
    "    \n",
    "    with open(output_path_primary_metadata,'w') as outfile:\n",
    "        json.dump(primary_metadata_dict,outfile,indent=2)\n",
    "    print(f\"Saved primary metadata file to: {output_path_primary_metadata}\\n\")\n",
    "    \n",
    "    with open(output_path_addl_metadata,'w') as outfile:\n",
    "        json.dump(addl_metadata_dict,outfile,indent=2)\n",
    "    print(f\"Saved addl metadata file to: {output_path_addl_metadata}\\n\")\n",
    "\n",
    "    return "
   ]
  },
  {
   "cell_type": "code",
   "execution_count": 14,
   "id": "cd74a6a1",
   "metadata": {},
   "outputs": [
    {
     "name": "stdout",
     "output_type": "stream",
     "text": [
      "Saved primary data file to: gpa_classification_primary_dataset.csv\n",
      "\n",
      "Saved addl data file to: gpa_classification_addl_dataset.csv\n",
      "\n",
      "Saved primary metadata file to: primary_metadata_classification.json\n",
      "\n",
      "Saved addl metadata file to: addl_metadata_classification.json\n",
      "\n"
     ]
    }
   ],
   "source": [
    "f = \"~/beri/code/notebooks/gpa_data_download/data.csv\"\n",
    "columns_raw = [\"Gender\", \"Physics\", \"Biology\", \n",
    "    \"History\", \"Second_Language\", \"Geography\", \n",
    "    \"Literature\", \"Portuguese_and_Essay\", \n",
    "    \"Math\", \"Chemistry\", \"GPA\"]\n",
    "\n",
    "make_primary_and_addl_dataset(\n",
    "    input_path=f,\n",
    "    output_path_primary_data=\"gpa_classification_primary_dataset.csv\",\n",
    "    output_path_addl_data=\"gpa_classification_addl_dataset.csv\",\n",
    "    output_path_primary_metadata=\"primary_metadata_classification.json\",\n",
    "    output_path_addl_metadata=\"addl_metadata_classification.json\",\n",
    "    columns_raw=columns_raw\n",
    ")"
   ]
  },
  {
   "cell_type": "code",
   "execution_count": 6,
   "id": "6b2d16fe",
   "metadata": {},
   "outputs": [
    {
     "name": "stdout",
     "output_type": "stream",
     "text": [
      "{\r\n",
      "  \"regime\": \"supervised_learning\",\r\n",
      "  \"sub_regime\": \"classification\",\r\n",
      "  \"all_col_names\": [\r\n",
      "    \"Physics\",\r\n",
      "    \"Biology\",\r\n",
      "    \"History\",\r\n",
      "    \"Second_Language\",\r\n",
      "    \"Geography\",\r\n",
      "    \"Literature\",\r\n",
      "    \"Portuguese_and_Essay\",\r\n",
      "    \"Math\",\r\n",
      "    \"Chemistry\",\r\n",
      "    \"GPA_class\"\r\n",
      "  ],\r\n",
      "  \"label_col_names\": [\r\n",
      "    \"GPA_class\"\r\n",
      "  ],\r\n",
      "  \"sensitive_col_names\": []\r\n",
      "}"
     ]
    }
   ],
   "source": [
    "!cat primary_metadata_classification.json"
   ]
  },
  {
   "cell_type": "code",
   "execution_count": 7,
   "id": "0bca5558",
   "metadata": {},
   "outputs": [
    {
     "name": "stdout",
     "output_type": "stream",
     "text": [
      "{\r\n",
      "  \"regime\": \"supervised_learning\",\r\n",
      "  \"sub_regime\": \"classification\",\r\n",
      "  \"all_col_names\": [\r\n",
      "    \"M\",\r\n",
      "    \"F\",\r\n",
      "    \"Gender\",\r\n",
      "    \"Physics\",\r\n",
      "    \"Biology\",\r\n",
      "    \"History\",\r\n",
      "    \"Second_Language\",\r\n",
      "    \"Geography\",\r\n",
      "    \"Literature\",\r\n",
      "    \"Portuguese_and_Essay\",\r\n",
      "    \"Math\",\r\n",
      "    \"Chemistry\",\r\n",
      "    \"GPA_class\"\r\n",
      "  ],\r\n",
      "  \"label_col_names\": [\r\n",
      "    \"GPA_class\"\r\n",
      "  ],\r\n",
      "  \"sensitive_col_names\": [\r\n",
      "    \"M\",\r\n",
      "    \"F\"\r\n",
      "  ]\r\n",
      "}"
     ]
    }
   ],
   "source": [
    "!cat addl_metadata_classification.json"
   ]
  },
  {
   "cell_type": "code",
   "execution_count": 8,
   "id": "1dca686f",
   "metadata": {},
   "outputs": [
    {
     "name": "stdout",
     "output_type": "stream",
     "text": [
      "1,0,1,-1.139908112595362,-1.0733193284219045,-0.9471784674922604,1.2934891718699535,-1.1671344974533673,-0.3605373141363532,0.5599504682061117,0.2087959121959728,0.32271489099911604,0.0\r\n",
      "0,1,0,-0.33792444634589314,1.5224381743711217,-1.179735672410228,-0.08337684280818243,0.48068901147110454,0.6573871962429912,-0.647180906333141,-0.3091610673703959,-0.24098787782837444,1.0\r\n",
      "1,0,1,-0.6701810253464856,-0.9392531654339613,-0.45202586094624453,-0.16694884570562624,0.5837124137341861,0.9281232520386816,-0.7431088368573631,0.4831212754477907,-0.8032642281359781,1.0\r\n",
      "0,1,0,0.09046596249099081,-0.26507780611444515,-0.9879370100246654,0.11093381957595705,-1.7741461798783027,-0.6663667910809083,-0.22904528572277577,-0.9592232361696014,-0.2397397616234732,1.0\r\n",
      "1,0,1,2.306059820316946,1.2246338520280509,0.475443265741662,-0.2606507883482147,0.6916941615607307,0.37416391083604755,0.8643724773936243,1.2994703062054247,1.438887382809994,1.0\r\n",
      "1,0,1,0.09046596249099081,-0.4916101903396608,0.1673129298781932,0.5332832391775026,1.1574480881554308,0.1526232337674475,-0.5809722748588868,0.6408627192248215,0.14753286652560393,0.0\r\n",
      "1,0,1,0.02655042612286844,-1.2293683990174291,1.2541012553711521,-1.2051525566313102,0.48068901147110454,-1.9088461374005343,-1.104330278592112,0.10241417565203903,0.15395174986509164,0.0\r\n",
      "1,0,1,-0.33106394719768467,-0.52039498415766,-0.3964074331155666,-0.003833793218466909,-0.7543797756592471,0.6039935248017732,0.5571965563250335,-0.22248611153050235,0.34910363361700936,1.0\r\n",
      "1,0,1,2.0311188038203767,0.27158115808140953,-0.4495845940758138,-0.5320871283374338,1.372419914695828,0.4007530980255252,0.3431946538995865,0.513989418674473,2.1283824348599407,0.0\r\n",
      "0,1,0,-0.49128699692483935,-0.017055404586750943,-0.6444613755588761,-1.1061554182128508,-0.4530225508576133,-0.49961921635823436,-0.18406472499849993,-1.383529408319425,-0.18036509073321436,0.0\r\n"
     ]
    }
   ],
   "source": [
    "!head gpa_classification_addl_dataset.csv"
   ]
  },
  {
   "cell_type": "code",
   "execution_count": null,
   "id": "7e1dd70b",
   "metadata": {},
   "outputs": [],
   "source": []
  }
 ],
 "metadata": {
  "kernelspec": {
   "display_name": "seldo",
   "language": "python",
   "name": "seldo"
  },
  "language_info": {
   "codemirror_mode": {
    "name": "ipython",
    "version": 3
   },
   "file_extension": ".py",
   "mimetype": "text/x-python",
   "name": "python",
   "nbconvert_exporter": "python",
   "pygments_lexer": "ipython3",
   "version": "3.8.12"
  }
 },
 "nbformat": 4,
 "nbformat_minor": 5
}
